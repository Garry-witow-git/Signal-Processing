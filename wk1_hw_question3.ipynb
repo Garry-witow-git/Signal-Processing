{
 "cells": [
  {
   "cell_type": "markdown",
   "metadata": {},
   "source": [
    "Question 3 no.1\n"
   ]
  },
  {
   "cell_type": "code",
   "execution_count": 1,
   "metadata": {},
   "outputs": [
    {
     "name": "stdout",
     "output_type": "stream",
     "text": [
      "Coordinates pairs:\n",
      "0: (2, 140)\n",
      "1: (2, 250)\n",
      "2: (20, 140)\n",
      "3: (20, 250)\n",
      "4: (45, 250)\n",
      "5: (35, 210)\n",
      "6: (35, 170)\n",
      "7: (45, 140)\n",
      "8: (55, 170)\n",
      "9: (55, 210)\n",
      "10: (45, 250)\n",
      "11: (90, 250)\n",
      "12: (70, 248)\n",
      "13: (80, 248)\n",
      "14: (80, 140)\n",
      "15: (2, 120)\n",
      "16: (2, 30)\n",
      "17: (2, 75)\n",
      "18: (20, 75)\n",
      "19: (20, 120)\n",
      "20: (20, 30)\n",
      "21: (55, 30)\n",
      "22: (35, 30)\n",
      "23: (35, 75)\n",
      "24: (55, 75)\n",
      "25: (35, 75)\n",
      "26: (35, 120)\n",
      "27: (55, 120)\n",
      "28: (70, 120)\n",
      "29: (70, 30)\n",
      "30: (70, 120)\n",
      "31: (85, 120)\n",
      "32: (90, 105)\n",
      "33: (85, 90)\n",
      "34: (70, 90)\n",
      "35: (85, 90)\n",
      "36: (90, 30)\n",
      "37: (135, 30)\n",
      "38: (105, 30)\n",
      "39: (105, 75)\n",
      "40: (135, 75)\n",
      "41: (105, 75)\n",
      "42: (105, 120)\n",
      "43: (135, 120)\n"
     ]
    }
   ],
   "source": [
    "import numpy as np\n",
    "import matplotlib.pyplot as plt\n",
    "with open(\"map.bin\", \"rb\") as file:\n",
    "    binary_data = file.read()\n",
    "# using list comprehension to create x and y coordinates from map.bin\n",
    "coordinates = [(binary_data[i], binary_data[i + 1]) for i in range(0, len(binary_data), 2)]\n",
    "\n",
    "print(\"Coordinates pairs:\")\n",
    "for i, (x, y) in enumerate(coordinates):\n",
    "    print(f\"{i}: ({x}, {y})\")\n"
   ]
  },
  {
   "cell_type": "markdown",
   "metadata": {},
   "source": [
    "1. Sum of the coordinate, assuming vector sum"
   ]
  },
  {
   "cell_type": "code",
   "execution_count": 2,
   "metadata": {},
   "outputs": [
    {
     "name": "stdout",
     "output_type": "stream",
     "text": [
      "sum of x-coordinates is  : 2590 and the sum of y-coordiates is : 5361\n"
     ]
    }
   ],
   "source": [
    "\n",
    "X= sum(x for x, _ in coordinates)\n",
    "Y= sum( y for _, y in coordinates)\n",
    "\n",
    "print( f'sum of x-coordinates is  : {X} and the sum of y-coordiates is : {Y}')\n"
   ]
  },
  {
   "cell_type": "code",
   "execution_count": 3,
   "metadata": {},
   "outputs": [
    {
     "data": {
      "text/plain": [
       "<matplotlib.collections.PathCollection at 0x15591954710>"
      ]
     },
     "execution_count": 3,
     "metadata": {},
     "output_type": "execute_result"
    },
    {
     "data": {
      "image/png": "[encoded data removed]",
      "text/plain": [
       "<Figure size 640x480 with 1 Axes>"
      ]
     },
     "metadata": {},
     "output_type": "display_data"
    }
   ],
   "source": [
    "\n",
    "\n",
    "xc= [x for x, _ in coordinates]\n",
    "yc= [y for _, y in coordinates]\n",
    "\n",
    "plt.scatter(xc,yc)\n"
   ]
  }
 ],
 "metadata": {
  "kernelspec": {
   "display_name": "base",
   "language": "python",
   "name": "python3"
  },
  "language_info": {
   "codemirror_mode": {
    "name": "ipython",
    "version": 3
   },
   "file_extension": ".py",
   "mimetype": "text/x-python",
   "name": "python",
   "nbconvert_exporter": "python",
   "pygments_lexer": "ipython3",
   "version": "3.11.4"
  }
 },
 "nbformat": 4,
 "nbformat_minor": 2
}
